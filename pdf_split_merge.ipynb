{
 "cells": [
  {
   "cell_type": "code",
   "execution_count": 1,
   "metadata": {},
   "outputs": [],
   "source": [
    "import os\n",
    "from PyPDF2 import PdfFileReader, PdfFileWriter, PdfFileMerger"
   ]
  },
  {
   "cell_type": "code",
   "execution_count": 8,
   "metadata": {},
   "outputs": [],
   "source": [
    "def pdf_splitter(path):\n",
    "    fname = os.path.splitext(os.path.basename(path))[0]\n",
    "    pdf = PdfFileReader(path)  \n",
    "    for page in range(pdf.getNumPages()):\n",
    "        pdf_writer = PdfFileWriter()\n",
    "        pdf_writer.addPage(pdf.getPage(page))\n",
    "        output_filename = \"{}_page_{}.pdf\".format(fname, page+1)\n",
    "        with open(output_filename, \"wb\") as out:\n",
    "            pdf_writer.write(out)\n",
    "        print(\"Create:{}\".format(output_filename))"
   ]
  },
  {
   "cell_type": "code",
   "execution_count": 26,
   "metadata": {},
   "outputs": [],
   "source": [
    "def pdf_extract(path, page_list):\n",
    "    fname = os.path.splitext(os.path.basename(path))[0]\n",
    "    pdf = PdfFileReader(path)\n",
    "    pdf_writer = PdfFileWriter()\n",
    "    for page in range(page_list[0]-1, page_list[1]):\n",
    "        pdf_writer.addPage(pdf.getPage(page))\n",
    "    output_filename = \"{}_page_{}-{}.pdf\".format(fname, page_list[0], page_list[1])\n",
    "    with open(output_filename, \"wb\") as out:\n",
    "        pdf_writer.write(out)\n",
    "    print(\"Create:{}\".format(output_filename))"
   ]
  },
  {
   "cell_type": "code",
   "execution_count": 27,
   "metadata": {},
   "outputs": [],
   "source": [
    "path = \"transcripts_undergraduate.pdf\""
   ]
  },
  {
   "cell_type": "code",
   "execution_count": 29,
   "metadata": {},
   "outputs": [
    {
     "name": "stdout",
     "output_type": "stream",
     "text": [
      "Create:transcripts_undergraduate_page_1-2.pdf\n"
     ]
    }
   ],
   "source": [
    "pdf_extract(path, page_list=[1,2])"
   ]
  },
  {
   "cell_type": "code",
   "execution_count": 32,
   "metadata": {},
   "outputs": [],
   "source": [
    "def merger(output_path, paths):\n",
    "    input_paths = os.listdir(paths)\n",
    "    pdf_merger = PdfFileMerger()\n",
    "    file_hands = []\n",
    "    for path in input_paths:\n",
    "        pdf_merger.append(path)\n",
    "    with open(output_path, \"wb\") as fileobj:\n",
    "        pdf_merger.write(fileobj)"
   ]
  },
  {
   "cell_type": "code",
   "execution_count": 33,
   "metadata": {},
   "outputs": [],
   "source": [
    "merger(output_path='transcripts_undergraduate_1-4.pdf', paths=\"merge/\")"
   ]
  },
  {
   "cell_type": "code",
   "execution_count": null,
   "metadata": {},
   "outputs": [],
   "source": []
  }
 ],
 "metadata": {
  "kernelspec": {
   "display_name": "Python 3",
   "language": "python",
   "name": "python3"
  },
  "language_info": {
   "codemirror_mode": {
    "name": "ipython",
    "version": 3
   },
   "file_extension": ".py",
   "mimetype": "text/x-python",
   "name": "python",
   "nbconvert_exporter": "python",
   "pygments_lexer": "ipython3",
   "version": "3.6.1"
  }
 },
 "nbformat": 4,
 "nbformat_minor": 2
}
